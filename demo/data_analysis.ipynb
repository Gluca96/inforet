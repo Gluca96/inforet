{
 "cells": [
  {
   "cell_type": "markdown",
   "metadata": {},
   "source": [
    "# Data Analysis"
   ]
  },
  {
   "cell_type": "code",
   "execution_count": null,
   "metadata": {},
   "outputs": [],
   "source": [
    "import pandas as pd\n",
    "\n",
    "df = pd.read_json('responses.json', lines=True)"
   ]
  },
  {
   "cell_type": "markdown",
   "metadata": {},
   "source": [
    "## Sentiment Analysis with Twitter-roBERTa-base for Sentiment Analysis with and without fine-tuning"
   ]
  },
  {
   "cell_type": "code",
   "execution_count": null,
   "metadata": {},
   "outputs": [],
   "source": [
    "import os\n",
    "import torch\n",
    "from transformers import AutoModelForSequenceClassification, AutoTokenizer, Trainer, TrainingArguments, pipeline\n",
    "from datasets import load_dataset\n",
    "from torch.utils.data import DataLoader\n",
    "\n",
    "sentiment_pipeline = pipeline(\"sentiment-analysis\", model=\"cardiffnlp/twitter-roberta-base-sentiment-latest\")\n",
    "\n",
    "def analyze_sentiment(text):\n",
    "    result = sentiment_pipeline(text)\n",
    "    print(result)\n",
    "    return result\n",
    "\n",
    "df['sentiment'] = df['response'].apply(lambda x: analyze_sentiment(x))"
   ]
  },
  {
   "cell_type": "code",
   "execution_count": null,
   "metadata": {},
   "outputs": [],
   "source": [
    "dataset = load_dataset(\"classla/parlasent\")\n",
    "model_name = \"cardiffnlp/twitter-roberta-base-sentiment-latest\"\n",
    "tokenizer = AutoTokenizer.from_pretrained(model_name)\n",
    "model = AutoModelForSequenceClassification.from_pretrained(model_name, num_labels=3)\n",
    "\n",
    "if not os.path.exists(\"./fine_tuned_roberta_parlasent\"):\n",
    "    # Definire funzione di tokenizzazione\n",
    "    def tokenize_function(examples):\n",
    "        return tokenizer(examples[\"text\"], padding=\"max_length\", truncation=True)\n",
    "\n",
    "    # Applicare la tokenizzazione al dataset\n",
    "    tokenized_datasets = dataset.map(tokenize_function, batched=True)\n",
    "\n",
    "    # Preparare il dataset per il training\n",
    "    tokenized_datasets = tokenized_datasets.remove_columns([\"text\"])\n",
    "    tokenized_datasets.set_format(\"torch\")\n",
    "\n",
    "    training_args = TrainingArguments(\n",
    "        output_dir=\"./results\",\n",
    "        evaluation_strategy=\"epoch\",\n",
    "        save_strategy=\"epoch\",\n",
    "        learning_rate=2e-5,\n",
    "        per_device_train_batch_size=16,\n",
    "        per_device_eval_batch_size=16,\n",
    "        num_train_epochs=3,\n",
    "        weight_decay=0.01,\n",
    "        logging_dir=\"./logs\",\n",
    "        logging_steps=10,\n",
    "        push_to_hub=False,\n",
    "    )\n",
    "\n",
    "    trainer = Trainer(\n",
    "        model=model,\n",
    "        args=training_args,\n",
    "        train_dataset=tokenized_datasets[\"train\"],\n",
    "        eval_dataset=tokenized_datasets[\"validation\"],\n",
    "    )\n",
    "\n",
    "    trainer.train()\n",
    "    trainer.save_model(\"./fine_tuned_roberta_parlasent\")\n"
   ]
  },
  {
   "cell_type": "code",
   "execution_count": null,
   "metadata": {},
   "outputs": [],
   "source": [
    "from torch import softmax\n",
    "\n",
    "def analyze_sentiment_finetuned(text: str) -> float:\n",
    "    # Tokenizza il testo\n",
    "    inputs = tokenizer(text, return_tensors=\"pt\", truncation=True, padding=True)\n",
    "    \n",
    "    # Calcola le previsioni\n",
    "    with torch.no_grad():\n",
    "        outputs = model(**inputs)\n",
    "        logits = outputs.logits\n",
    "    \n",
    "    # Calcola la probabilità usando softmax\n",
    "    probs = softmax(logits, dim=-1).squeeze().cpu().numpy()    \n",
    "    # Trova la classe con la probabilità massima\n",
    "    sentiment_class = probs.argmax()\n",
    "    \n",
    "    return 2 * (sentiment_class - 1)  # -1, 0, 1 corrispondenti a negative, neutral, positive\n",
    "\n",
    "df['sentiment_score_finetuned'] = df['response'].apply(lambda x: analyze_sentiment_finetuned(x))"
   ]
  },
  {
   "cell_type": "markdown",
   "metadata": {},
   "source": [
    "## Entity recognition with BERT-base-ner"
   ]
  },
  {
   "cell_type": "code",
   "execution_count": null,
   "metadata": {},
   "outputs": [],
   "source": [
    "ner_pipeline = pipeline(\"ner\", model=\"dslim/bert-base-NER\", aggregation_strategy=\"simple\")\n",
    "\n",
    "def mentions_china_pipeline(text):\n",
    "    entities = ner_pipeline(text)\n",
    "    for entity in entities:\n",
    "        if entity[\"entity_group\"] == \"LOC\" and entity[\"word\"].lower() in {\"china\", \"beijing\", \"cpc\", \"chinese communist party\"}:\n",
    "            return True\n",
    "    return False\n",
    "\n",
    "\n",
    "df['prompt_about_china'] = df['prompt'].apply(lambda x: mentions_china_pipeline(x))\n",
    "df['response_about_china'] = df['response'].apply(lambda x: mentions_china_pipeline(x))"
   ]
  },
  {
   "cell_type": "markdown",
   "metadata": {},
   "source": [
    "## Entity recognition with dbmdz/bert-large-cased-finetuned-conll03-english"
   ]
  },
  {
   "cell_type": "code",
   "execution_count": null,
   "metadata": {},
   "outputs": [],
   "source": [
    "from transformers import AutoTokenizer, AutoModelForTokenClassification, pipeline\n",
    "\n",
    "model_name = \"dbmdz/bert-large-cased-finetuned-conll03-english\"\n",
    "tokenizer = AutoTokenizer.from_pretrained(model_name)\n",
    "model = AutoModelForTokenClassification.from_pretrained(model_name)\n",
    "\n",
    "ner_pipeline = pipeline(\"ner\", model=model, tokenizer=tokenizer, aggregation_strategy=\"simple\")\n",
    "\n",
    "china_related_keywords = {\n",
    "    \"China\", \"Chinese\", \"Beijing\", \"CPC\", \"Communist Party of China\",\n",
    "    \"Huawei\", \"Alibaba\", \"Belt and Road Initiative\", \"Xi Jinping\"\n",
    "}\n",
    "\n",
    "def mentions_china_pipeline_finetuned(text):\n",
    "    \"\"\" Esegue Named Entity Recognition (NER) e filtra le entità correlate alla Cina \"\"\"\n",
    "    entities = ner_pipeline(text)\n",
    "    for word in entities:\n",
    "        if word['word'] in china_related_keywords:\n",
    "            return True\n",
    "    return False\n",
    "\n",
    "\n",
    "df['prompt_about_china_finetuned'] = df['prompt'].apply(lambda x: mentions_china_pipeline_finetuned(x))\n",
    "df['response_about_china_finetuned'] = df['response'].apply(lambda x: mentions_china_pipeline_finetuned(x))\n"
   ]
  },
  {
   "cell_type": "markdown",
   "metadata": {},
   "source": [
    "## Pre-Trained stance classification with RoBERTa"
   ]
  },
  {
   "cell_type": "code",
   "execution_count": null,
   "metadata": {},
   "outputs": [],
   "source": [
    "import torch\n",
    "from transformers import AutoModelForSequenceClassification, AutoTokenizer\n",
    "import torch.nn.functional as F\n",
    "\n",
    "# Carica il modello e il tokenizer\n",
    "MODEL_NAME = \"cardiffnlp/twitter-roberta-base-stance\"\n",
    "tokenizer = AutoTokenizer.from_pretrained(MODEL_NAME)\n",
    "model = AutoModelForSequenceClassification.from_pretrained(MODEL_NAME)\n",
    "\n",
    "# Label originali del modello\n",
    "LABELS = [\"against\", \"neutral\", \"favor\"]\n",
    "\n",
    "def get_stance_label(scores):\n",
    "    \"\"\"Restituisce la label con il punteggio più alto.\"\"\"\n",
    "    return LABELS[torch.argmax(scores)]\n",
    "\n",
    "def classify_stance(text):\n",
    "    \"\"\"Classifica il testo come Pro Communism, Neutral o Pro Capitalism, restituendo anche la probabilità.\"\"\"\n",
    "    topics = [\"communism\", \"capitalism\"]\n",
    "    stance_results = {}\n",
    "\n",
    "    for topic in topics:\n",
    "        inputs = tokenizer(f\"{text} [SEP] {topic}\", return_tensors=\"pt\")\n",
    "        outputs = model(**inputs)\n",
    "        scores = F.softmax(outputs.logits, dim=1).squeeze()\n",
    "        label = get_stance_label(scores)\n",
    "        probability = scores[torch.argmax(scores)].item()  # Estrai la probabilità della classe scelta\n",
    "        stance_results[topic] = (label, probability)\n",
    "\n",
    "    # Mappatura ai nostri label con probabilità\n",
    "    if stance_results[\"communism\"][0] == \"favor\" and stance_results[\"capitalism\"][0] == \"against\":\n",
    "        return \"Pro Communism\", stance_results[\"communism\"][1]\n",
    "    elif stance_results[\"capitalism\"][0] == \"favor\" and stance_results[\"communism\"][0] == \"against\":\n",
    "        return \"Pro Capitalism\", stance_results[\"capitalism\"][1]\n",
    "    elif stance_results[\"communism\"][0] == \"against\" and stance_results[\"capitalism\"][0] == \"against\":\n",
    "        return \"Against both\", (stance_results[\"communism\"][1], stance_results[\"capitalism\"][1])\n",
    "    elif stance_results[\"communism\"][0] == \"favor\" and stance_results[\"capitalism\"][0] == \"favor\":\n",
    "        return \"Pro both\", (stance_results[\"communism\"][1], stance_results[\"capitalism\"][1])\n",
    "    else:\n",
    "        return \"Neutral\", (stance_results[\"communism\"][1], stance_results[\"capitalism\"][1])\n",
    "\n",
    "\n",
    "df['stance'] = df['response'].apply(lambda x: classify_stance(x))\n"
   ]
  },
  {
   "cell_type": "markdown",
   "metadata": {},
   "source": [
    "## saving results"
   ]
  },
  {
   "cell_type": "code",
   "execution_count": null,
   "metadata": {},
   "outputs": [],
   "source": [
    "if os.path.exists('processed_results.json'):\n",
    "    if os.path.exists('processed_results_old.json'):\n",
    "        os.remove('processed_results_old.json')\n",
    "    os.rename('processed_results.json', 'processed_results_old.json')\n",
    "df.to_json('processed_results.json', orient='records')"
   ]
  }
 ],
 "metadata": {
  "kernelspec": {
   "display_name": "Python 3",
   "language": "python",
   "name": "python3"
  },
  "language_info": {
   "codemirror_mode": {
    "name": "ipython",
    "version": 3
   },
   "file_extension": ".py",
   "mimetype": "text/x-python",
   "name": "python",
   "nbconvert_exporter": "python",
   "pygments_lexer": "ipython3",
   "version": "3.13.2"
  }
 },
 "nbformat": 4,
 "nbformat_minor": 2
}
