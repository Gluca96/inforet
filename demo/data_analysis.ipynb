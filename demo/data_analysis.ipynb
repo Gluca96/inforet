{
 "cells": [
  {
   "cell_type": "markdown",
   "metadata": {},
   "source": [
    "# Data Analysis"
   ]
  },
  {
   "cell_type": "code",
   "execution_count": 10,
   "metadata": {},
   "outputs": [],
   "source": [
    "import pandas as pd\n",
    "\n",
    "df = pd.read_json('responses.json', lines=True)\n",
    "df = df[['prompt', 'response']]"
   ]
  },
  {
   "cell_type": "markdown",
   "metadata": {},
   "source": [
    "## Sentiment Analysis with Twitter-roBERTa-base for Sentiment Analysis with and without fine-tuning"
   ]
  },
  {
   "cell_type": "code",
   "execution_count": 11,
   "metadata": {},
   "outputs": [
    {
     "name": "stderr",
     "output_type": "stream",
     "text": [
      "Some weights of the model checkpoint at cardiffnlp/twitter-roberta-base-sentiment-latest were not used when initializing RobertaForSequenceClassification: ['roberta.pooler.dense.bias', 'roberta.pooler.dense.weight']\n",
      "- This IS expected if you are initializing RobertaForSequenceClassification from the checkpoint of a model trained on another task or with another architecture (e.g. initializing a BertForSequenceClassification model from a BertForPreTraining model).\n",
      "- This IS NOT expected if you are initializing RobertaForSequenceClassification from the checkpoint of a model that you expect to be exactly identical (initializing a BertForSequenceClassification model from a BertForSequenceClassification model).\n",
      "Device set to use cuda:0\n"
     ]
    }
   ],
   "source": [
    "import os\n",
    "import torch\n",
    "from transformers import AutoModelForSequenceClassification, AutoTokenizer, Trainer, TrainingArguments, pipeline\n",
    "from datasets import load_dataset\n",
    "from torch.utils.data import DataLoader\n",
    "\n",
    "\n",
    "sentiment_pipeline = pipeline(\n",
    "    \"sentiment-analysis\",\n",
    "    model=\"cardiffnlp/twitter-roberta-base-sentiment-latest\",\n",
    "    tokenizer=\"cardiffnlp/twitter-roberta-base-sentiment-latest\",\n",
    "    truncation=True,\n",
    "    padding=True,\n",
    "    max_length=512\n",
    ")\n",
    "\n",
    "def chunk_text(text, chunk_size=512, overlap=50):\n",
    "    words = text.split()\n",
    "    chunks = []\n",
    "    i = 0\n",
    "    while i < len(words):\n",
    "        chunk = \" \".join(words[i:i+chunk_size])\n",
    "        chunks.append(chunk)\n",
    "        i += chunk_size - overlap  \n",
    "    return chunks\n",
    "\n",
    "def analyze_long_sentiment(text):\n",
    "    chunks = chunk_text(text)\n",
    "    results = sentiment_pipeline(chunks)  \n",
    "    scores = {\"positive\": 0, \"neutral\": 0, \"negative\": 0}  \n",
    "    for result in results:\n",
    "        scores[result['label']] += result['score']\n",
    "\n",
    "    for label in scores:\n",
    "        scores[label] /= len(scores)  \n",
    "    \n",
    "    final_label = max(scores, key=scores.get)\n",
    "    return {\"label\": final_label, \"score\": scores[final_label]}\n",
    "\n",
    "\n",
    "df['sentiment'] = df['response'].apply(lambda x: analyze_long_sentiment(x))"
   ]
  },
  {
   "cell_type": "code",
   "execution_count": null,
   "metadata": {},
   "outputs": [
    {
     "name": "stderr",
     "output_type": "stream",
     "text": [
      "Some weights of the model checkpoint at cardiffnlp/twitter-roberta-base-sentiment-latest were not used when initializing RobertaForSequenceClassification: ['roberta.pooler.dense.bias', 'roberta.pooler.dense.weight']\n",
      "- This IS expected if you are initializing RobertaForSequenceClassification from the checkpoint of a model trained on another task or with another architecture (e.g. initializing a BertForSequenceClassification model from a BertForPreTraining model).\n",
      "- This IS NOT expected if you are initializing RobertaForSequenceClassification from the checkpoint of a model that you expect to be exactly identical (initializing a BertForSequenceClassification model from a BertForSequenceClassification model).\n"
     ]
    }
   ],
   "source": [
    "dataset = load_dataset(\"classla/parlasent\", \"EN\")\n",
    "model_name = \"cardiffnlp/twitter-roberta-base-sentiment-latest\"\n",
    "tokenizer = AutoTokenizer.from_pretrained(model_name)\n",
    "model = AutoModelForSequenceClassification.from_pretrained(model_name, num_labels=3, ignore_mismatched_sizes=True)\n",
    "\n",
    "path = \"./fine_tuned_roberta_parlasent\"\n",
    "\n",
    "if not os.path.exists(path):\n",
    "    def tokenize_function(examples):\n",
    "        return tokenizer(examples[\"sentence\"], padding=\"max_length\", truncation=True, max_length=512)\n",
    "\n",
    "    def encode_labels(example):\n",
    "        example['label'] = label_mapping[example['label']]\n",
    "        return example\n",
    "\n",
    "    tokenized_datasets = dataset.map(tokenize_function, batched=True)\n",
    "    tokenized_datasets = tokenized_datasets[\"train\"].train_test_split(test_size=0.2)\n",
    "    label_mapping = {'negative': 0, 'neutral': 1, 'positive': 2}\n",
    "\n",
    "    tokenized_datasets = tokenized_datasets.map(encode_labels)\n",
    "    tokenized_datasets = tokenized_datasets.remove_columns([\"sentence\"])\n",
    "    tokenized_datasets.set_format(\"torch\")\n",
    "\n",
    "    training_args = TrainingArguments(\n",
    "        output_dir=path,\n",
    "        eval_strategy=\"epoch\",\n",
    "        save_strategy=\"epoch\",\n",
    "        learning_rate=2e-5,\n",
    "        per_device_train_batch_size=16,\n",
    "        per_device_eval_batch_size=16,\n",
    "        num_train_epochs=3,\n",
    "        weight_decay=0.01,\n",
    "        logging_dir=\"./logs\",\n",
    "        logging_steps=10,\n",
    "        push_to_hub=False,\n",
    "    )\n",
    "\n",
    "    trainer = Trainer(\n",
    "        model=model,\n",
    "        args=training_args,\n",
    "        train_dataset=tokenized_datasets[\"train\"],\n",
    "        eval_dataset=tokenized_datasets[\"test\"],\n",
    "    )\n",
    "\n",
    "    trainer.train()\n",
    "    trainer.save_model(\"./fine_tuned_roberta_parlasent\")\n"
   ]
  },
  {
   "cell_type": "code",
   "execution_count": 13,
   "metadata": {},
   "outputs": [],
   "source": [
    "from torch import softmax\n",
    "\n",
    "def analyze_sentiment_finetuned(text: str) -> float:\n",
    "    def get_label(probs):\n",
    "        labels = ['Negative', 'Neutral', 'Positive']\n",
    "        return labels[probs.argmax()]\n",
    "    \n",
    "    inputs = tokenizer(text, return_tensors=\"pt\", truncation=True, padding=\"max_length\", max_length=512)\n",
    "    inputs = {key: value.to(model.device) for key, value in inputs.items()}  # Move inputs to the same device as the model\n",
    "    \n",
    "    with torch.no_grad():\n",
    "        outputs = model(**inputs)\n",
    "        logits = outputs.logits\n",
    "    \n",
    "    probs = softmax(logits, dim=-1).squeeze().cpu().numpy()  \n",
    "    return {'label': get_label(probs), 'score': probs[probs.argmax()]}\n",
    "\n",
    "df['sentiment_score_finetuned'] = df['response'].apply(lambda x: analyze_sentiment_finetuned(x))"
   ]
  },
  {
   "cell_type": "markdown",
   "metadata": {},
   "source": [
    "## Entity recognition with BERT-base-ner"
   ]
  },
  {
   "cell_type": "code",
   "execution_count": 14,
   "metadata": {},
   "outputs": [
    {
     "name": "stderr",
     "output_type": "stream",
     "text": [
      "Some weights of the model checkpoint at dslim/bert-base-NER were not used when initializing BertForTokenClassification: ['bert.pooler.dense.bias', 'bert.pooler.dense.weight']\n",
      "- This IS expected if you are initializing BertForTokenClassification from the checkpoint of a model trained on another task or with another architecture (e.g. initializing a BertForSequenceClassification model from a BertForPreTraining model).\n",
      "- This IS NOT expected if you are initializing BertForTokenClassification from the checkpoint of a model that you expect to be exactly identical (initializing a BertForSequenceClassification model from a BertForSequenceClassification model).\n",
      "Device set to use cuda:0\n"
     ]
    }
   ],
   "source": [
    "ner_pipeline = pipeline(\"ner\", model=\"dslim/bert-base-NER\", aggregation_strategy=\"simple\")\n",
    "\n",
    "def mentions_china_pipeline(text):\n",
    "    entities = ner_pipeline(text)\n",
    "    for entity in entities:\n",
    "        if entity[\"entity_group\"] == \"LOC\" and entity[\"word\"].lower() in {\"china\", \"beijing\", \"cpc\", \"chinese communist party\"}:\n",
    "            return True\n",
    "    return False\n",
    "\n",
    "\n",
    "df['prompt_about_china'] = df['prompt'].apply(lambda x: mentions_china_pipeline(x))\n",
    "df['response_about_china'] = df['response'].apply(lambda x: mentions_china_pipeline(x))"
   ]
  },
  {
   "cell_type": "markdown",
   "metadata": {},
   "source": [
    "## Entity recognition with dbmdz/bert-large-cased-finetuned-conll03-english"
   ]
  },
  {
   "cell_type": "code",
   "execution_count": 15,
   "metadata": {},
   "outputs": [
    {
     "name": "stderr",
     "output_type": "stream",
     "text": [
      "Some weights of the model checkpoint at dbmdz/bert-large-cased-finetuned-conll03-english were not used when initializing BertForTokenClassification: ['bert.pooler.dense.bias', 'bert.pooler.dense.weight']\n",
      "- This IS expected if you are initializing BertForTokenClassification from the checkpoint of a model trained on another task or with another architecture (e.g. initializing a BertForSequenceClassification model from a BertForPreTraining model).\n",
      "- This IS NOT expected if you are initializing BertForTokenClassification from the checkpoint of a model that you expect to be exactly identical (initializing a BertForSequenceClassification model from a BertForSequenceClassification model).\n",
      "Device set to use cuda:0\n"
     ]
    }
   ],
   "source": [
    "from transformers import AutoTokenizer, AutoModelForTokenClassification, pipeline\n",
    "\n",
    "model_name = \"dbmdz/bert-large-cased-finetuned-conll03-english\"\n",
    "tokenizer = AutoTokenizer.from_pretrained(model_name)\n",
    "model = AutoModelForTokenClassification.from_pretrained(model_name, ignore_mismatched_sizes=True)\n",
    "\n",
    "ner_pipeline = pipeline(\"ner\", model=model, tokenizer=tokenizer, aggregation_strategy=\"simple\")\n",
    "\n",
    "china_related_keywords = {\n",
    "    \"China\", \"Chinese\", \"Beijing\", \"CPC\", \"Communist Party of China\",\n",
    "    \"Huawei\", \"Alibaba\", \"Belt and Road Initiative\", \"Xi Jinping\"\n",
    "}\n",
    "\n",
    "def mentions_china_pipeline_finetuned(text):\n",
    "    \"\"\" Esegue Named Entity Recognition (NER) e filtra le entità correlate alla Cina \"\"\"\n",
    "    entities = ner_pipeline(text)\n",
    "    for word in entities:\n",
    "        if word['word'] in china_related_keywords:\n",
    "            return True\n",
    "    return False\n",
    "\n",
    "\n",
    "df['prompt_about_china_finetuned'] = df['prompt'].apply(lambda x: mentions_china_pipeline_finetuned(x))\n",
    "df['response_about_china_finetuned'] = df['response'].apply(lambda x: mentions_china_pipeline_finetuned(x))\n"
   ]
  },
  {
   "cell_type": "markdown",
   "metadata": {},
   "source": [
    "## Zero-shot stance classification with BERT-large-mnli"
   ]
  },
  {
   "cell_type": "code",
   "execution_count": 16,
   "metadata": {},
   "outputs": [
    {
     "name": "stderr",
     "output_type": "stream",
     "text": [
      "Device set to use cuda:0\n"
     ]
    }
   ],
   "source": [
    "import torch\n",
    "from transformers import AutoModelForSequenceClassification, AutoTokenizer\n",
    "\n",
    "classifier = pipeline(\"zero-shot-classification\", model=\"facebook/bart-large-mnli\")\n",
    "\n",
    "def get_stance_scores(text):\n",
    "    targets = [\"capitalism\", \"communism\"]\n",
    "    hypothesis_templates = [f\"This text is about {target}\" for target in targets]\n",
    "    \n",
    "    results = classifier(text, hypothesis_templates, multi_label=False)\n",
    "    \n",
    "    stance_results = {label: score for label, score in zip(results[\"labels\"], results[\"scores\"])}\n",
    "    highest_stance = max(stance_results, key=stance_results.get)\n",
    "    lowest_stance = min(stance_results, key=stance_results.get)\n",
    "    if stance_results[highest_stance] - stance_results[lowest_stance] < 0.2:\n",
    "        return {'label' : \"neutral\", 'score' : 1 - (stance_results[highest_stance] - stance_results[lowest_stance])}\n",
    "    score = stance_results[highest_stance]\n",
    "    highest_stance = highest_stance[len(\"This text is \"):]\n",
    "    return {'label' : highest_stance, 'score' : score}\n",
    "\n",
    "\n",
    "df['prompt_stance'] = df['prompt'].apply(lambda x: get_stance_scores(x))\n",
    "df['response_stance'] = df['response'].apply(lambda x: get_stance_scores(x))\n"
   ]
  },
  {
   "cell_type": "markdown",
   "metadata": {},
   "source": [
    "## Left-Right Wing stance classification with politicalBiasBERT"
   ]
  },
  {
   "cell_type": "code",
   "execution_count": 17,
   "metadata": {},
   "outputs": [],
   "source": [
    "from transformers import AutoTokenizer, AutoModelForSequenceClassification\n",
    "import torch\n",
    "\n",
    "tokenizer = AutoTokenizer.from_pretrained(\"bert-base-cased\")\n",
    "model = AutoModelForSequenceClassification.from_pretrained(\"bucketresearch/politicalBiasBERT\")\n",
    "\n",
    "def get_stance(text):\n",
    "    def get_label(logits):\n",
    "        return [\"left wing\", \"center\", \"right wing\"][logits.argmax().item()]\n",
    "\n",
    "    inputs = tokenizer(text, return_tensors=\"pt\", truncation=True, padding=\"max_length\", max_length=512)\n",
    "    labels = torch.tensor([0])\n",
    "    outputs = model(**inputs, labels=labels)\n",
    "    loss, logits = outputs[:2]\n",
    "\n",
    "    label = get_label(logits.softmax(dim=-1)[0])\n",
    "    score = logits.softmax(dim=-1)[0].max().item()\n",
    "    return {'label': label, 'score': score}\n",
    "\n",
    "df['left_right_stance'] = df['response'].apply(lambda x: get_stance(x))"
   ]
  },
  {
   "cell_type": "markdown",
   "metadata": {},
   "source": [
    "## saving results"
   ]
  },
  {
   "cell_type": "code",
   "execution_count": 18,
   "metadata": {},
   "outputs": [],
   "source": [
    "if os.path.exists('processed_results.json'):\n",
    "    if os.path.exists('processed_results_old.json'):\n",
    "        os.remove('processed_results_old.json')\n",
    "    os.rename('processed_results.json', 'processed_results_old.json')\n",
    "df.to_json('processed_results.json', orient='records')"
   ]
  }
 ],
 "metadata": {
  "kernelspec": {
   "display_name": ".venv",
   "language": "python",
   "name": "python3"
  },
  "language_info": {
   "codemirror_mode": {
    "name": "ipython",
    "version": 3
   },
   "file_extension": ".py",
   "mimetype": "text/x-python",
   "name": "python",
   "nbconvert_exporter": "python",
   "pygments_lexer": "ipython3",
   "version": "3.12.6"
  }
 },
 "nbformat": 4,
 "nbformat_minor": 2
}
