{
 "cells": [
  {
   "cell_type": "markdown",
   "metadata": {},
   "source": [
    "# Data visualization\n",
    "\n",
    "## Stance labels distributions"
   ]
  },
  {
   "cell_type": "code",
   "execution_count": null,
   "metadata": {},
   "outputs": [],
   "source": [
    "import ast\n",
    "import pandas as pd\n",
    "import plotly.express as px\n",
    "import matplotlib.pyplot as plt\n",
    "import seaborn as sns\n",
    "from io import StringIO\n",
    "\n",
    "\n",
    "# Read JSON file line by line and concatenate into a single DataFrame\n",
    "df = pd.read_json(\"processed_results.json\")"
   ]
  },
  {
   "cell_type": "code",
   "execution_count": null,
   "metadata": {},
   "outputs": [],
   "source": [
    "# Extract only the \"label\" from dictionary columns\n",
    "df[\"stance_label\"] = df[\"stance\"].apply(lambda x: x[\"label\"] if isinstance(x, dict) else None)\n",
    "\n",
    "fig, axes = plt.subplots(3, 1, figsize=(12, 15))\n",
    "fig.suptitle('Distribution of Stance Labels', fontsize=16, y=0.95)\n",
    "\n",
    "sns.countplot(data=df, y='stance_label', ax=axes[0] hue='liberals_conservative_label', palette='Reds', legend=False)\n",
    "axes[0].set_title('Distribution of Stance Labels')\n",
    "axes[0].set_xlabel('Count')\n",
    "\n",
    "plt.tight_layout()\n",
    "plt.show()"
   ]
  },
  {
   "cell_type": "markdown",
   "metadata": {},
   "source": [
    "## Stance scores distributions"
   ]
  },
  {
   "cell_type": "code",
   "execution_count": null,
   "metadata": {},
   "outputs": [],
   "source": [
    "import json\n",
    "import pandas as pd\n",
    "import seaborn as sns\n",
    "import matplotlib.pyplot as plt\n",
    "\n",
    "# Caricare i dati dal file JSON\n",
    "data = df.to_dict(orient=\"records\")\n",
    "\n",
    "stance_data = []\n",
    "for entry in data:\n",
    "    for key, value in entry.items():\n",
    "        if (\"stance\" in key or \"liberals_conservative\" in key) and isinstance(value, dict):\n",
    "            stance_data.append({\n",
    "                \"stance_type\": key,\n",
    "                \"label\": value[\"label\"],\n",
    "                \"score\": value[\"score\"] if type(value[\"score\"]) == float else 1 - abs(value[\"score\"][0] - value[\"score\"][1])\n",
    "            })\n",
    "\n",
    "# Convertire in dataframe\n",
    "df = pd.DataFrame(stance_data)\n",
    "\n",
    "# Convertire il dataframe in un formato corretto\n",
    "df[\"score\"] = pd.to_numeric(df[\"score\"], errors=\"coerce\")  # Convertire gli score in numerico\n",
    "\n",
    "# Controllare se ci sono valori NaN dopo la conversione\n",
    "df = df.dropna(subset=[\"score\"])  # Rimuovere eventuali valori non numerici\n",
    "\n",
    "# Creare i grafici a violino\n",
    "plt.figure(figsize=(12, 6))\n",
    "sns.violinplot(x=\"label\", y=\"score\", hue=\"stance_type\", data=df)\n",
    "plt.title(\"Distribuzione degli score per ogni stance label\")\n",
    "plt.xticks(rotation=45)\n",
    "plt.legend(title=\"Stance Type\", bbox_to_anchor=(1.05, 1), loc=\"upper left\")\n",
    "plt.tight_layout()\n",
    "\n",
    "# Mostrare il grafico\n",
    "plt.show()\n",
    "\n"
   ]
  },
  {
   "cell_type": "code",
   "execution_count": null,
   "metadata": {},
   "outputs": [],
   "source": [
    "# Converti in DataFrame\n",
    "df = pd.DataFrame(data)\n",
    "extract_score = lambda x: x[\"score\"] if isinstance(x[\"score\"], float) else 1 - abs(x[\"score\"][0] - x[\"score\"][1])\n",
    "# Estrai gli score in colonne separate\n",
    "df = df[df[\"stance_pro_china_label\"] == \"Pro China\"]\n",
    "df = df[df[\"stance_communism_capitalism_label\"] == \"Pro Communism\"]\n",
    "df[\"pro_china_score\"] = df[\"stance_pro_china\"].apply(extract_score)\n",
    "df[\"pro_communism_score\"] = df[\"stance_communism_capitalism\"].apply(extract_score)\n",
    "df[\"sentiment_vader\"] = df[\"sentiment_vader\"]\n",
    "df[\"sentiment_bart\"] = df[\"sentiment_bart\"]\n",
    "\n",
    "# Rimuovi eventuali valori nulli\n",
    "df_cleaned = df.dropna(subset=[\"pro_china_score\", \"pro_communism_score\", \"liberal_conservative_score\", \"sentiment_vader\", \"sentiment_bart\"])\n",
    "\n",
    "# Calcola la matrice di correlazione\n",
    "correlation_matrix = df_cleaned[[\"pro_china_score\", \"pro_communism_score\", \"liberal_conservative_score\", \"sentiment_vader\", \"sentiment_bart\"]].corr()\n",
    "plt.figure(figsize=(10, 8))\n",
    "sns.heatmap(correlation_matrix, annot=True, cmap='coolwarm', center=0, linewidths=0.5, fmt=\".2f\")\n",
    "plt.title('Correlation Matrix of Stance Scores and Sentiments')\n",
    "plt.show()\n",
    "\n"
   ]
  }
 ],
 "metadata": {
  "kernelspec": {
   "display_name": "Python 3",
   "language": "python",
   "name": "python3"
  },
  "language_info": {
   "name": "python",
   "version": "3.13.2"
  }
 },
 "nbformat": 4,
 "nbformat_minor": 2
}
